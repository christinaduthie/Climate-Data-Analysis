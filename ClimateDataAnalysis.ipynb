{
  "nbformat": 4,
  "nbformat_minor": 0,
  "metadata": {
    "colab": {
      "provenance": []
    },
    "kernelspec": {
      "name": "python3",
      "display_name": "Python 3"
    },
    "language_info": {
      "name": "python"
    }
  },
  "cells": [
    {
      "cell_type": "code",
      "source": [
        "from google.colab import drive\n",
        "drive.mount('/content/drive')"
      ],
      "metadata": {
        "colab": {
          "base_uri": "https://localhost:8080/"
        },
        "id": "WFH5_C7Fehy3",
        "outputId": "873a6228-9277-4ae3-8f94-52c8f1005023"
      },
      "execution_count": 3,
      "outputs": [
        {
          "output_type": "stream",
          "name": "stdout",
          "text": [
            "Mounted at /content/drive\n"
          ]
        }
      ]
    },
    {
      "cell_type": "code",
      "source": [
        "# Import necessary files for analysis\n",
        "import pandas as pd\n",
        "import numpy as np\n",
        "\n",
        "# visualization\n",
        "import matplotlib.pyplot as plt"
      ],
      "metadata": {
        "id": "9R8dvbmfgOOl"
      },
      "execution_count": 8,
      "outputs": []
    },
    {
      "cell_type": "markdown",
      "source": [
        "<h2> Climate data analysis on Melbourne, Fl dataset </h2>"
      ],
      "metadata": {
        "id": "3GHbRm1-FhQl"
      }
    },
    {
      "cell_type": "code",
      "source": [
        "# Load the data\n",
        "# Hourly climate data of Melbourne, FL\n",
        "path=\"/content/drive/MyDrive/Climate Data/kmlb_hrly_vals_2019.csv\"\n",
        "melbourne_data = pd.read_csv(path)\n",
        "print(melbourne_data)"
      ],
      "metadata": {
        "colab": {
          "base_uri": "https://localhost:8080/"
        },
        "id": "AeBaCJwIU_PV",
        "outputId": "437fb86f-7ee2-412c-a74a-fb3781b20875"
      },
      "execution_count": 9,
      "outputs": [
        {
          "output_type": "stream",
          "name": "stdout",
          "text": [
            "                     time  temp  dewpt  wind_spd  precip_1hr\n",
            "0     2019-01-01 01:00:00  69.0   67.0       NaN         0.0\n",
            "1     2019-01-01 02:00:00  69.0   67.0       NaN         0.0\n",
            "2     2019-01-01 03:00:00  68.0   66.0       NaN         0.0\n",
            "3     2019-01-01 04:00:00  66.0   64.0       NaN         0.0\n",
            "4     2019-01-01 05:00:00  65.0   64.0       NaN         0.0\n",
            "...                   ...   ...    ...       ...         ...\n",
            "8754  2019-12-31 19:00:00  60.0   49.0       NaN         0.0\n",
            "8755  2019-12-31 20:00:00  60.0   48.0       NaN         0.0\n",
            "8756  2019-12-31 21:00:00  57.0   51.0       NaN         0.0\n",
            "8757  2019-12-31 22:00:00  55.0   50.0       NaN         0.0\n",
            "8758  2019-12-31 23:00:00  54.0   49.0       NaN         0.0\n",
            "\n",
            "[8759 rows x 5 columns]\n"
          ]
        }
      ]
    },
    {
      "cell_type": "markdown",
      "source": [
        "<h3> Explore the data </h3>"
      ],
      "metadata": {
        "id": "F76rNu5C4tnJ"
      }
    },
    {
      "cell_type": "code",
      "source": [
        "# To get the shape of the dataframe\n",
        "print(\"Dataset shape: \", melbourne_data.shape)"
      ],
      "metadata": {
        "colab": {
          "base_uri": "https://localhost:8080/"
        },
        "id": "ppYN8gDpd-3H",
        "outputId": "8f2b9174-2ac4-455c-d72d-e29294b03801"
      },
      "execution_count": 10,
      "outputs": [
        {
          "output_type": "stream",
          "name": "stdout",
          "text": [
            "Dataset shape:  (8759, 5)\n"
          ]
        }
      ]
    },
    {
      "cell_type": "code",
      "source": [
        "# Get the summary of dataframe\n",
        "melbourne_data.info()"
      ],
      "metadata": {
        "colab": {
          "base_uri": "https://localhost:8080/"
        },
        "id": "goseSM2b38sY",
        "outputId": "47993376-9fa3-40f3-b78c-1578cb10a8c8"
      },
      "execution_count": 11,
      "outputs": [
        {
          "output_type": "stream",
          "name": "stdout",
          "text": [
            "<class 'pandas.core.frame.DataFrame'>\n",
            "RangeIndex: 8759 entries, 0 to 8758\n",
            "Data columns (total 5 columns):\n",
            " #   Column      Non-Null Count  Dtype  \n",
            "---  ------      --------------  -----  \n",
            " 0   time        8759 non-null   object \n",
            " 1   temp        8683 non-null   float64\n",
            " 2   dewpt       8683 non-null   float64\n",
            " 3   wind_spd    0 non-null      float64\n",
            " 4   precip_1hr  8153 non-null   float64\n",
            "dtypes: float64(4), object(1)\n",
            "memory usage: 342.3+ KB\n"
          ]
        }
      ]
    },
    {
      "cell_type": "code",
      "source": [
        "# Get the column names\n",
        "melbourne_data.columns"
      ],
      "metadata": {
        "colab": {
          "base_uri": "https://localhost:8080/"
        },
        "id": "kRHo3pCpmJcE",
        "outputId": "ef13acc4-7970-4eb0-f8c6-0b46df00786a"
      },
      "execution_count": 12,
      "outputs": [
        {
          "output_type": "execute_result",
          "data": {
            "text/plain": [
              "Index(['time', 'temp', 'dewpt', 'wind_spd', 'precip_1hr'], dtype='object')"
            ]
          },
          "metadata": {},
          "execution_count": 12
        }
      ]
    },
    {
      "cell_type": "code",
      "source": [
        "# To get the description of the dataframe\n",
        "print(\"Description of the dataframe:\\n \", melbourne_data.describe())"
      ],
      "metadata": {
        "colab": {
          "base_uri": "https://localhost:8080/"
        },
        "id": "Y3oYNLF64K5S",
        "outputId": "2310799d-7876-46c3-db4b-08c464765c79"
      },
      "execution_count": 13,
      "outputs": [
        {
          "output_type": "stream",
          "name": "stdout",
          "text": [
            "Description of the dataframe:\n",
            "                temp        dewpt  wind_spd   precip_1hr\n",
            "count  8683.000000  8683.000000       0.0  8153.000000\n",
            "mean     75.248071    66.380053       NaN     0.005878\n",
            "std       9.661977     9.263527       NaN     0.043711\n",
            "min      37.000000    28.000000       NaN     0.000000\n",
            "25%      70.000000    61.000000       NaN     0.000000\n",
            "50%      77.000000    69.000000       NaN     0.000000\n",
            "75%      82.000000    74.000000       NaN     0.000000\n",
            "max      96.000000    81.000000       NaN     1.470000\n"
          ]
        }
      ]
    },
    {
      "cell_type": "code",
      "source": [
        "# Detect missing values\n",
        "print(\"Missing Values: \\n\", melbourne_data.isnull())\n",
        "print(\"\\n\", melbourne_data.isnull().sum())"
      ],
      "metadata": {
        "colab": {
          "base_uri": "https://localhost:8080/"
        },
        "id": "CJLNk09Y4Zvi",
        "outputId": "e139f447-aabc-4eef-9297-0e927cca7c65"
      },
      "execution_count": 14,
      "outputs": [
        {
          "output_type": "stream",
          "name": "stdout",
          "text": [
            "Missing Values: \n",
            "        time   temp  dewpt  wind_spd  precip_1hr\n",
            "0     False  False  False      True       False\n",
            "1     False  False  False      True       False\n",
            "2     False  False  False      True       False\n",
            "3     False  False  False      True       False\n",
            "4     False  False  False      True       False\n",
            "...     ...    ...    ...       ...         ...\n",
            "8754  False  False  False      True       False\n",
            "8755  False  False  False      True       False\n",
            "8756  False  False  False      True       False\n",
            "8757  False  False  False      True       False\n",
            "8758  False  False  False      True       False\n",
            "\n",
            "[8759 rows x 5 columns]\n",
            "\n",
            " time             0\n",
            "temp            76\n",
            "dewpt           76\n",
            "wind_spd      8759\n",
            "precip_1hr     606\n",
            "dtype: int64\n"
          ]
        }
      ]
    },
    {
      "cell_type": "markdown",
      "source": [
        "<h3> Data Cleaning </h3>"
      ],
      "metadata": {
        "id": "3azv1JkY5FBn"
      }
    },
    {
      "cell_type": "code",
      "source": [
        "# Drop wind_spd column as it has 8759 null values\n",
        "melbourne_data_decent = melbourne_data.drop(['wind_spd'],axis=1)\n",
        "print(melbourne_data_decent)"
      ],
      "metadata": {
        "colab": {
          "base_uri": "https://localhost:8080/"
        },
        "id": "WYgQ8mKr5LK_",
        "outputId": "42594aff-8812-4912-d8e7-e0d277bf9959"
      },
      "execution_count": 15,
      "outputs": [
        {
          "output_type": "stream",
          "name": "stdout",
          "text": [
            "                     time  temp  dewpt  precip_1hr\n",
            "0     2019-01-01 01:00:00  69.0   67.0         0.0\n",
            "1     2019-01-01 02:00:00  69.0   67.0         0.0\n",
            "2     2019-01-01 03:00:00  68.0   66.0         0.0\n",
            "3     2019-01-01 04:00:00  66.0   64.0         0.0\n",
            "4     2019-01-01 05:00:00  65.0   64.0         0.0\n",
            "...                   ...   ...    ...         ...\n",
            "8754  2019-12-31 19:00:00  60.0   49.0         0.0\n",
            "8755  2019-12-31 20:00:00  60.0   48.0         0.0\n",
            "8756  2019-12-31 21:00:00  57.0   51.0         0.0\n",
            "8757  2019-12-31 22:00:00  55.0   50.0         0.0\n",
            "8758  2019-12-31 23:00:00  54.0   49.0         0.0\n",
            "\n",
            "[8759 rows x 4 columns]\n"
          ]
        }
      ]
    },
    {
      "cell_type": "code",
      "source": [
        "# Impute missing values using the mean\n",
        "melbourne_data_decent['temp'] = melbourne_data_decent['temp'].fillna(melbourne_data_decent['temp'].mean())\n",
        "melbourne_data_decent['precip_1hr'] = melbourne_data_decent['precip_1hr'].fillna(melbourne_data_decent['precip_1hr'].mean())\n",
        "melbourne_data_decent['dewpt'] = melbourne_data_decent['dewpt'].fillna(melbourne_data_decent['dewpt'].mean())\n",
        "\n",
        "print(melbourne_data_decent.info())"
      ],
      "metadata": {
        "colab": {
          "base_uri": "https://localhost:8080/"
        },
        "id": "uiAWvD6L8nTH",
        "outputId": "846f3035-c455-4dfa-8a9a-22f6bfd6b0b8"
      },
      "execution_count": 16,
      "outputs": [
        {
          "output_type": "stream",
          "name": "stdout",
          "text": [
            "<class 'pandas.core.frame.DataFrame'>\n",
            "RangeIndex: 8759 entries, 0 to 8758\n",
            "Data columns (total 4 columns):\n",
            " #   Column      Non-Null Count  Dtype  \n",
            "---  ------      --------------  -----  \n",
            " 0   time        8759 non-null   object \n",
            " 1   temp        8759 non-null   float64\n",
            " 2   dewpt       8759 non-null   float64\n",
            " 3   precip_1hr  8759 non-null   float64\n",
            "dtypes: float64(3), object(1)\n",
            "memory usage: 273.8+ KB\n",
            "None\n"
          ]
        }
      ]
    },
    {
      "cell_type": "markdown",
      "source": [
        "<h3> Analysis of data </h3>"
      ],
      "metadata": {
        "id": "zOgsk7Hy_9_R"
      }
    },
    {
      "cell_type": "code",
      "source": [
        "# total number of hours that it rained using the precipitation values\n",
        "total_rainy_hours = (melbourne_data_decent['precip_1hr'] > 0).sum()\n",
        "print(\"Total rainy hours: \", total_rainy_hours)"
      ],
      "metadata": {
        "colab": {
          "base_uri": "https://localhost:8080/"
        },
        "id": "VjK0JLSwG1QW",
        "outputId": "07a70d50-a5bf-4f82-8fc6-c30ab1d1a13c"
      },
      "execution_count": 17,
      "outputs": [
        {
          "output_type": "stream",
          "name": "stdout",
          "text": [
            "Total rainy hours:  1135\n"
          ]
        }
      ]
    },
    {
      "cell_type": "code",
      "source": [
        "# Count the number of rows where temperature is greater than 100\n",
        "num_hours_above_100 = (melbourne_data_decent['temp'] > 100).sum()\n",
        "print(\"Total number of hours when temperature was greater than 100: \", num_hours_above_100)"
      ],
      "metadata": {
        "colab": {
          "base_uri": "https://localhost:8080/"
        },
        "id": "hX2QqpkHonU2",
        "outputId": "79829ef9-2b19-4807-9d6c-0efaf8f56619"
      },
      "execution_count": 18,
      "outputs": [
        {
          "output_type": "stream",
          "name": "stdout",
          "text": [
            "Total number of hours when temperature was greater than 100:  0\n"
          ]
        }
      ]
    },
    {
      "cell_type": "code",
      "source": [
        "# Count the number of rows where temperature is below 32\n",
        "num_hours_below_32 = (melbourne_data_decent['temp'] < 32).sum()\n",
        "print(\"Total number of hours when temperature was less than 32: \", num_hours_below_32)"
      ],
      "metadata": {
        "colab": {
          "base_uri": "https://localhost:8080/"
        },
        "id": "AJYKLAjYoytw",
        "outputId": "c4ae47fb-bb21-45c4-b4b8-c141b189cbaa"
      },
      "execution_count": 19,
      "outputs": [
        {
          "output_type": "stream",
          "name": "stdout",
          "text": [
            "Total number of hours when temperature was less than 32:  0\n"
          ]
        }
      ]
    },
    {
      "cell_type": "code",
      "source": [
        "# Average temperature for each month\n",
        "melbourne_data_decent['time'] = pd.to_datetime(melbourne_data_decent['time'])\n",
        "# Create a new column 'month' containing the month of each datetime value\n",
        "melbourne_data_decent['month'] = melbourne_data_decent['time'].dt.month\n",
        "# Group the data by 'month' and calculate the mean of the 'temp' column for each group\n",
        "monthly_avg_temp = melbourne_data_decent.groupby('month')['temp'].mean()\n",
        "print(monthly_avg_temp)"
      ],
      "metadata": {
        "colab": {
          "base_uri": "https://localhost:8080/"
        },
        "id": "OXwTCR-Io9R7",
        "outputId": "5d50cd03-7038-470b-ba54-3f5f6260c168"
      },
      "execution_count": 20,
      "outputs": [
        {
          "output_type": "stream",
          "name": "stdout",
          "text": [
            "month\n",
            "1     62.885244\n",
            "2     69.869048\n",
            "3     68.650401\n",
            "4     74.454167\n",
            "5     79.055108\n",
            "6     81.987845\n",
            "7     82.869624\n",
            "8     82.293011\n",
            "9     83.146178\n",
            "10    80.123302\n",
            "11    68.899773\n",
            "12    68.447446\n",
            "Name: temp, dtype: float64\n"
          ]
        }
      ]
    },
    {
      "cell_type": "code",
      "source": [
        "#Sum of rainfall for each month\n",
        "melbourne_data_decent['time'] = pd.to_datetime(melbourne_data_decent['time'])\n",
        "melbourne_data_decent['month'] = melbourne_data_decent['time'].dt.month\n",
        "monthly_sum_rainfall = melbourne_data_decent.groupby('month')['precip_1hr'].sum()\n",
        "\n",
        "print(monthly_sum_rainfall)\n"
      ],
      "metadata": {
        "colab": {
          "base_uri": "https://localhost:8080/"
        },
        "id": "H3z7H_mqpQpo",
        "outputId": "1e96b4c9-efa0-4fb9-9d41-1d495fb57538"
      },
      "execution_count": 21,
      "outputs": [
        {
          "output_type": "stream",
          "name": "stdout",
          "text": [
            "month\n",
            "1     4.470000\n",
            "2     3.290000\n",
            "3     2.851755\n",
            "4     1.660000\n",
            "5     3.570000\n",
            "6     4.620000\n",
            "7     3.650000\n",
            "8     7.810000\n",
            "9     2.025878\n",
            "10    6.085554\n",
            "11    2.917481\n",
            "12    8.531153\n",
            "Name: precip_1hr, dtype: float64\n"
          ]
        }
      ]
    },
    {
      "cell_type": "code",
      "source": [
        "# Total average temperature\n",
        "avg_temp = melbourne_data_decent['temp'].mean()\n",
        "print(\"Total average temperature: \",avg_temp)"
      ],
      "metadata": {
        "colab": {
          "base_uri": "https://localhost:8080/"
        },
        "id": "jZr9Z2HZDWWs",
        "outputId": "959dd54e-1271-41ca-94d3-b9e561a055a9"
      },
      "execution_count": 22,
      "outputs": [
        {
          "output_type": "stream",
          "name": "stdout",
          "text": [
            "Total average temperature:  75.24807094322239\n"
          ]
        }
      ]
    },
    {
      "cell_type": "code",
      "source": [
        "# Calculate the humidity using values from the listed hourly temperature (T) and dew point (TD) values\n",
        "# Function to calculate humidity using the provided formula\n",
        "def calculate_humidity(temp, dewpt):\n",
        "    h = 100 * np.exp(17.625 * dewpt / (243.04 + dewpt)) / np.exp(17.625 * temp / (243.04 + temp))\n",
        "    return h\n",
        "# Apply the function to each row and assign the result to a new column 'H'\n",
        "melbourne_data_decent['H'] = melbourne_data_decent.apply(lambda row: calculate_humidity(row['temp'], row['dewpt']), axis=1)\n",
        "\n",
        "print(melbourne_data_decent['H'])"
      ],
      "metadata": {
        "colab": {
          "base_uri": "https://localhost:8080/"
        },
        "id": "ow98KYoDsUNf",
        "outputId": "e5c35e34-f539-4d89-e0bb-16cccccaebf6"
      },
      "execution_count": 23,
      "outputs": [
        {
          "output_type": "stream",
          "name": "stdout",
          "text": [
            "0       91.525356\n",
            "1       91.525356\n",
            "2       91.473002\n",
            "3       91.366854\n",
            "4       95.572003\n",
            "          ...    \n",
            "8754    58.718017\n",
            "8755    55.832090\n",
            "8756    74.727538\n",
            "8757    78.252373\n",
            "8758    78.121947\n",
            "Name: H, Length: 8759, dtype: float64\n"
          ]
        }
      ]
    },
    {
      "cell_type": "code",
      "source": [
        "melbourne_data_decent.columns"
      ],
      "metadata": {
        "colab": {
          "base_uri": "https://localhost:8080/"
        },
        "id": "HfhMWOzHsc3Z",
        "outputId": "a7fe0948-532a-4d74-c8c7-ef9468f8b2c6"
      },
      "execution_count": 24,
      "outputs": [
        {
          "output_type": "execute_result",
          "data": {
            "text/plain": [
              "Index(['time', 'temp', 'dewpt', 'precip_1hr', 'month', 'H'], dtype='object')"
            ]
          },
          "metadata": {},
          "execution_count": 24
        }
      ]
    },
    {
      "cell_type": "markdown",
      "source": [
        "<h2> Climate data analysis on San Diego, CA dataset </h2>"
      ],
      "metadata": {
        "id": "Df1fZoUbFpw5"
      }
    },
    {
      "cell_type": "code",
      "source": [
        "# Load the data\n",
        "# Hourly climate data of San Diego, CA\n",
        "npath=\"/content/drive/MyDrive/Climate Data/ksan_hrly_vals_2019.csv\"\n",
        "sanDiego_data = pd.read_csv(npath)\n",
        "print(sanDiego_data)"
      ],
      "metadata": {
        "colab": {
          "base_uri": "https://localhost:8080/"
        },
        "id": "GEwkCpuQGJ_M",
        "outputId": "51626f49-41a3-4665-b3c7-97160d384fd8"
      },
      "execution_count": 25,
      "outputs": [
        {
          "output_type": "stream",
          "name": "stdout",
          "text": [
            "                     time  temp  dewpt  wind_spd  precip_1hr\n",
            "0     2019-01-01 01:00:00  47.0   40.0       NaN         0.0\n",
            "1     2019-01-01 02:00:00  47.0   35.0       NaN         0.0\n",
            "2     2019-01-01 03:00:00  47.0   30.0       NaN         0.0\n",
            "3     2019-01-01 04:00:00  46.0   29.0       NaN         0.0\n",
            "4     2019-01-01 05:00:00  48.0   24.0       NaN         0.0\n",
            "...                   ...   ...    ...       ...         ...\n",
            "8754  2019-12-31 19:00:00  58.0   46.0       NaN         0.0\n",
            "8755  2019-12-31 20:00:00  56.0   47.0       NaN         0.0\n",
            "8756  2019-12-31 21:00:00  56.0   46.0       NaN         0.0\n",
            "8757  2019-12-31 22:00:00  54.0   45.0       NaN         0.0\n",
            "8758  2019-12-31 23:00:00  51.0   44.0       NaN         0.0\n",
            "\n",
            "[8759 rows x 5 columns]\n"
          ]
        }
      ]
    },
    {
      "cell_type": "markdown",
      "source": [
        "<h3> Explore the data </h3>"
      ],
      "metadata": {
        "id": "ahF29HcrHICx"
      }
    },
    {
      "cell_type": "code",
      "source": [
        "# To get the shape of the dataframe\n",
        "print(\"Dataset shape: \", sanDiego_data.shape)"
      ],
      "metadata": {
        "colab": {
          "base_uri": "https://localhost:8080/"
        },
        "id": "V2cLsm-PHJYX",
        "outputId": "042d7b41-d006-444a-a552-063a14be8a93"
      },
      "execution_count": 26,
      "outputs": [
        {
          "output_type": "stream",
          "name": "stdout",
          "text": [
            "Dataset shape:  (8759, 5)\n"
          ]
        }
      ]
    },
    {
      "cell_type": "code",
      "source": [
        "# Get the summary of dataframe\n",
        "sanDiego_data.info()"
      ],
      "metadata": {
        "colab": {
          "base_uri": "https://localhost:8080/"
        },
        "id": "W9LIAnuUHQOl",
        "outputId": "cc4fa595-12b5-4649-cde7-00a7398adb05"
      },
      "execution_count": 27,
      "outputs": [
        {
          "output_type": "stream",
          "name": "stdout",
          "text": [
            "<class 'pandas.core.frame.DataFrame'>\n",
            "RangeIndex: 8759 entries, 0 to 8758\n",
            "Data columns (total 5 columns):\n",
            " #   Column      Non-Null Count  Dtype  \n",
            "---  ------      --------------  -----  \n",
            " 0   time        8759 non-null   object \n",
            " 1   temp        8709 non-null   float64\n",
            " 2   dewpt       8704 non-null   float64\n",
            " 3   wind_spd    0 non-null      float64\n",
            " 4   precip_1hr  8319 non-null   float64\n",
            "dtypes: float64(4), object(1)\n",
            "memory usage: 342.3+ KB\n"
          ]
        }
      ]
    },
    {
      "cell_type": "code",
      "source": [
        "# To get the description of the dataframe\n",
        "print(\"Description of the dataframe:\\n \", sanDiego_data.describe())"
      ],
      "metadata": {
        "colab": {
          "base_uri": "https://localhost:8080/"
        },
        "id": "I0PrCLgmHZNo",
        "outputId": "fc3e6990-691e-4240-bb83-83d8fc65d3ad"
      },
      "execution_count": 28,
      "outputs": [
        {
          "output_type": "stream",
          "name": "stdout",
          "text": [
            "Description of the dataframe:\n",
            "                temp        dewpt  wind_spd   precip_1hr\n",
            "count  8709.000000  8704.000000       0.0  8319.000000\n",
            "mean     63.979676    52.808019       NaN     0.001689\n",
            "std       7.060905    10.090981       NaN     0.016333\n",
            "min      42.000000     7.000000       NaN     0.000000\n",
            "25%      60.000000    48.000000       NaN     0.000000\n",
            "50%      64.000000    54.000000       NaN     0.000000\n",
            "75%      68.000000    60.000000       NaN     0.000000\n",
            "max      91.000000    73.000000       NaN     0.500000\n"
          ]
        }
      ]
    },
    {
      "cell_type": "code",
      "source": [
        "# Detect missing values\n",
        "print(\"Missing Values: \\n\", sanDiego_data.isnull())\n",
        "print(\"\\n\", sanDiego_data.isnull().sum())"
      ],
      "metadata": {
        "colab": {
          "base_uri": "https://localhost:8080/"
        },
        "id": "KxkykHTYH_5W",
        "outputId": "d58370dd-1946-47b8-cad4-a85382862395"
      },
      "execution_count": 29,
      "outputs": [
        {
          "output_type": "stream",
          "name": "stdout",
          "text": [
            "Missing Values: \n",
            "        time   temp  dewpt  wind_spd  precip_1hr\n",
            "0     False  False  False      True       False\n",
            "1     False  False  False      True       False\n",
            "2     False  False  False      True       False\n",
            "3     False  False  False      True       False\n",
            "4     False  False  False      True       False\n",
            "...     ...    ...    ...       ...         ...\n",
            "8754  False  False  False      True       False\n",
            "8755  False  False  False      True       False\n",
            "8756  False  False  False      True       False\n",
            "8757  False  False  False      True       False\n",
            "8758  False  False  False      True       False\n",
            "\n",
            "[8759 rows x 5 columns]\n",
            "\n",
            " time             0\n",
            "temp            50\n",
            "dewpt           55\n",
            "wind_spd      8759\n",
            "precip_1hr     440\n",
            "dtype: int64\n"
          ]
        }
      ]
    },
    {
      "cell_type": "markdown",
      "source": [
        "<h3> Data Cleaning </h3>"
      ],
      "metadata": {
        "id": "xxzcZrLlIMU2"
      }
    },
    {
      "cell_type": "code",
      "source": [
        "# Drop wind_spd column as it has 8759 null values\n",
        "sanDiego_data_decent = sanDiego_data.drop(['wind_spd'],axis=1)\n",
        "print(sanDiego_data_decent)"
      ],
      "metadata": {
        "colab": {
          "base_uri": "https://localhost:8080/"
        },
        "id": "pekwukzsIPg2",
        "outputId": "92903d8c-e3d4-4af3-f059-99f88455334d"
      },
      "execution_count": 30,
      "outputs": [
        {
          "output_type": "stream",
          "name": "stdout",
          "text": [
            "                     time  temp  dewpt  precip_1hr\n",
            "0     2019-01-01 01:00:00  47.0   40.0         0.0\n",
            "1     2019-01-01 02:00:00  47.0   35.0         0.0\n",
            "2     2019-01-01 03:00:00  47.0   30.0         0.0\n",
            "3     2019-01-01 04:00:00  46.0   29.0         0.0\n",
            "4     2019-01-01 05:00:00  48.0   24.0         0.0\n",
            "...                   ...   ...    ...         ...\n",
            "8754  2019-12-31 19:00:00  58.0   46.0         0.0\n",
            "8755  2019-12-31 20:00:00  56.0   47.0         0.0\n",
            "8756  2019-12-31 21:00:00  56.0   46.0         0.0\n",
            "8757  2019-12-31 22:00:00  54.0   45.0         0.0\n",
            "8758  2019-12-31 23:00:00  51.0   44.0         0.0\n",
            "\n",
            "[8759 rows x 4 columns]\n"
          ]
        }
      ]
    },
    {
      "cell_type": "code",
      "source": [
        "# Impute missing values using the mean\n",
        "sanDiego_data_decent['temp'] = sanDiego_data_decent['temp'].fillna(sanDiego_data_decent['temp'].mean())\n",
        "sanDiego_data_decent['precip_1hr'] = sanDiego_data_decent['precip_1hr'].fillna(sanDiego_data_decent['precip_1hr'].mean())\n",
        "sanDiego_data_decent['dewpt'] = sanDiego_data_decent['dewpt'].fillna(sanDiego_data_decent['dewpt'].mean())\n",
        "\n",
        "print(sanDiego_data_decent.info())"
      ],
      "metadata": {
        "colab": {
          "base_uri": "https://localhost:8080/"
        },
        "id": "MpEZOLyeIdmt",
        "outputId": "6df62f91-8d66-4daa-f9e6-70e3cb81fe29"
      },
      "execution_count": 31,
      "outputs": [
        {
          "output_type": "stream",
          "name": "stdout",
          "text": [
            "<class 'pandas.core.frame.DataFrame'>\n",
            "RangeIndex: 8759 entries, 0 to 8758\n",
            "Data columns (total 4 columns):\n",
            " #   Column      Non-Null Count  Dtype  \n",
            "---  ------      --------------  -----  \n",
            " 0   time        8759 non-null   object \n",
            " 1   temp        8759 non-null   float64\n",
            " 2   dewpt       8759 non-null   float64\n",
            " 3   precip_1hr  8759 non-null   float64\n",
            "dtypes: float64(3), object(1)\n",
            "memory usage: 273.8+ KB\n",
            "None\n"
          ]
        }
      ]
    },
    {
      "cell_type": "markdown",
      "source": [
        "<h3> Analysis of data </h3>"
      ],
      "metadata": {
        "id": "4XpWBSj4Iog4"
      }
    },
    {
      "cell_type": "code",
      "source": [
        "# total number of hours that it rained using the precipitation values\n",
        "total_rainy_hours_sanDiego = (sanDiego_data_decent['precip_1hr'] > 0).sum()\n",
        "print(\"Total rainy hours: \", total_rainy_hours_sanDiego)"
      ],
      "metadata": {
        "colab": {
          "base_uri": "https://localhost:8080/"
        },
        "id": "sL6AVlJXIseW",
        "outputId": "56b71316-eb58-4c22-a75f-567a36692683"
      },
      "execution_count": 32,
      "outputs": [
        {
          "output_type": "stream",
          "name": "stdout",
          "text": [
            "Total rainy hours:  694\n"
          ]
        }
      ]
    },
    {
      "cell_type": "code",
      "source": [
        "# Count the number of rows where temperature is greater than 100\n",
        "num_hours_above_100_sanDiego = (sanDiego_data_decent['temp'] > 100).sum()\n",
        "print(\"Total number of hours when temperature was greater than 100: \", num_hours_above_100_sanDiego)"
      ],
      "metadata": {
        "colab": {
          "base_uri": "https://localhost:8080/"
        },
        "id": "9bgvqyvDJ63d",
        "outputId": "1e49845d-6d58-4255-b513-18ee543f044a"
      },
      "execution_count": 33,
      "outputs": [
        {
          "output_type": "stream",
          "name": "stdout",
          "text": [
            "Total number of hours when temperature was greater than 100:  0\n"
          ]
        }
      ]
    },
    {
      "cell_type": "code",
      "source": [
        "# Count the number of rows where temperature is below 32\n",
        "num_hours_below_32_sanDiego = (sanDiego_data_decent['temp'] < 32).sum()\n",
        "print(\"Total number of hours when temperature was less than 32: \", num_hours_below_32_sanDiego)"
      ],
      "metadata": {
        "colab": {
          "base_uri": "https://localhost:8080/"
        },
        "id": "xtti7Ez1KAgY",
        "outputId": "0e266fb8-a87f-495c-b13c-4f5ed8e303b7"
      },
      "execution_count": 34,
      "outputs": [
        {
          "output_type": "stream",
          "name": "stdout",
          "text": [
            "Total number of hours when temperature was less than 32:  0\n"
          ]
        }
      ]
    },
    {
      "cell_type": "code",
      "source": [
        "# Average temperature for each month\n",
        "sanDiego_data_decent['time'] = pd.to_datetime(sanDiego_data_decent['time'])\n",
        "# Create a new column 'month' containing the month of each datetime value\n",
        "sanDiego_data_decent['month'] = sanDiego_data_decent['time'].dt.month\n",
        "# Group the data by 'month' and calculate the mean of the 'temp' column for each group\n",
        "monthly_avg_temp_sanDiego = sanDiego_data_decent.groupby('month')['temp'].mean()\n",
        "print(monthly_avg_temp_sanDiego)"
      ],
      "metadata": {
        "colab": {
          "base_uri": "https://localhost:8080/"
        },
        "id": "FBtGuioYKOEd",
        "outputId": "c18e3385-2c18-48ff-fcfb-e2c99664b390"
      },
      "execution_count": 35,
      "outputs": [
        {
          "output_type": "stream",
          "name": "stdout",
          "text": [
            "month\n",
            "1     58.419919\n",
            "2     55.636905\n",
            "3     60.141319\n",
            "4     63.309722\n",
            "5     63.129032\n",
            "6     65.484722\n",
            "7     69.197581\n",
            "8     70.705645\n",
            "9     71.854167\n",
            "10    67.647849\n",
            "11    62.703190\n",
            "12    58.947559\n",
            "Name: temp, dtype: float64\n"
          ]
        }
      ]
    },
    {
      "cell_type": "code",
      "source": [
        "#Sum of rainfall for each month\n",
        "sanDiego_data_decent['time'] = pd.to_datetime(sanDiego_data_decent['time'])\n",
        "sanDiego_data_decent['month'] = sanDiego_data_decent['time'].dt.month\n",
        "monthly_sum_rainfall_sanDiego = sanDiego_data_decent.groupby('month')['precip_1hr'].sum()\n",
        "\n",
        "print(monthly_sum_rainfall_sanDiego)"
      ],
      "metadata": {
        "colab": {
          "base_uri": "https://localhost:8080/"
        },
        "id": "pec4aREPKvb4",
        "outputId": "12c8f65b-585c-4067-85c1-9df6e9997681"
      },
      "execution_count": 36,
      "outputs": [
        {
          "output_type": "stream",
          "name": "stdout",
          "text": [
            "month\n",
            "1     2.690000\n",
            "2     2.770000\n",
            "3     1.110000\n",
            "4     0.160000\n",
            "5     0.790000\n",
            "6     0.013378\n",
            "7     0.000000\n",
            "8     0.005067\n",
            "9     0.081689\n",
            "10    0.043912\n",
            "11    2.626534\n",
            "12    4.502539\n",
            "Name: precip_1hr, dtype: float64\n"
          ]
        }
      ]
    },
    {
      "cell_type": "code",
      "source": [
        "# Total average temperature\n",
        "avg_temp_sanDiego = sanDiego_data_decent['temp'].mean()\n",
        "print(\"Total average temperature: \",avg_temp_sanDiego)"
      ],
      "metadata": {
        "colab": {
          "base_uri": "https://localhost:8080/"
        },
        "id": "bIKU4NtdL3iV",
        "outputId": "c2db7a5f-342a-4b59-f7f9-64ea87f04ffe"
      },
      "execution_count": 37,
      "outputs": [
        {
          "output_type": "stream",
          "name": "stdout",
          "text": [
            "Total average temperature:  63.979676197037556\n"
          ]
        }
      ]
    },
    {
      "cell_type": "code",
      "source": [
        "# Calculate the humidity using values from the listed hourly temperature (T) and dew point (TD) values\n",
        "# Function to calculate humidity using the provided formula\n",
        "def calculate_humidity(temp, dewpt):\n",
        "    h = 100 * np.exp(17.625 * dewpt / (243.04 + dewpt)) / np.exp(17.625 * temp / (243.04 + temp))\n",
        "    return h\n",
        "# Apply the function to each row and assign the result to a new column 'H'\n",
        "sanDiego_data_decent['H'] = sanDiego_data_decent.apply(lambda row: calculate_humidity(row['temp'], row['dewpt']), axis=1)\n",
        "\n",
        "print(sanDiego_data_decent['H'])"
      ],
      "metadata": {
        "colab": {
          "base_uri": "https://localhost:8080/"
        },
        "id": "jPF92vyMMAyP",
        "outputId": "23850c62-6f34-468c-9113-55148d99add8"
      },
      "execution_count": 38,
      "outputs": [
        {
          "output_type": "stream",
          "name": "stdout",
          "text": [
            "0       69.401788\n",
            "1       52.865672\n",
            "2       39.870155\n",
            "3       39.608939\n",
            "4       26.639248\n",
            "          ...    \n",
            "8754    55.391000\n",
            "8755    64.115104\n",
            "8756    60.921337\n",
            "8757    63.725199\n",
            "8758    70.098556\n",
            "Name: H, Length: 8759, dtype: float64\n"
          ]
        }
      ]
    },
    {
      "cell_type": "code",
      "source": [
        "sanDiego_data_decent.columns"
      ],
      "metadata": {
        "colab": {
          "base_uri": "https://localhost:8080/"
        },
        "id": "308J4ByYMRBF",
        "outputId": "fc59bb8e-63e8-4cc0-8d89-2c9cfbe88ec6"
      },
      "execution_count": 39,
      "outputs": [
        {
          "output_type": "execute_result",
          "data": {
            "text/plain": [
              "Index(['time', 'temp', 'dewpt', 'precip_1hr', 'month', 'H'], dtype='object')"
            ]
          },
          "metadata": {},
          "execution_count": 39
        }
      ]
    },
    {
      "cell_type": "markdown",
      "source": [
        "<h3> <strong>Visualization </strong> </h3"
      ],
      "metadata": {
        "id": "7gRjJ-JdEyfa"
      }
    },
    {
      "cell_type": "code",
      "source": [
        "#Plot the temperature values as a line graph of both datsets.\n",
        "# Create the plot\n",
        "fig, ax = plt.subplots(figsize=(12, 6))\n",
        "\n",
        "# Plot the temperature values as a line graph - Melbourne climate data\n",
        "ax.plot(melbourne_data_decent['time'], melbourne_data_decent['temp'], label='Temperature', color='orange')\n",
        "\n",
        "# Mark the minimum and maximum temperature values on the graph as shaded dots - Melbourne climate data\n",
        "ax.plot(melbourne_data_decent['time'].iloc[melbourne_data_decent['temp'].idxmin()], melbourne_data_decent['temp'].min(), 'ko', label='Minimum Temperature', color='blue')\n",
        "ax.plot(melbourne_data_decent['time'].iloc[melbourne_data_decent['temp'].idxmax()], melbourne_data_decent['temp'].max(), 'ko', label='Maximum Temperature',color='red')\n",
        "\n",
        "# Plot horizontal lines for the average temperature of the year - Melbourne climate data\n",
        "ax.axhline(y=avg_temp, linestyle='--', color='blue', label='Average Temperature')\n",
        "\n",
        "# Set the title and axis labels - Melbourne climate data\n",
        "ax.set_title('Hourly Temperature in Melbourne, FL')\n",
        "ax.set_xlabel('Time')\n",
        "ax.set_ylabel('Values')\n",
        "\n",
        "# Add a legend and display the plot - Melbourne climate data\n",
        "ax.legend()\n",
        "plt.show()\n",
        "\n",
        "# San Diego Climate data\n",
        "# Create the plot\n",
        "fig, ax = plt.subplots(figsize=(12, 6))\n",
        "\n",
        "# Plot the temperature values as a line graph - San Diego climate data\n",
        "ax.plot(sanDiego_data_decent['time'], sanDiego_data_decent['temp'], label='Temperature', color='orange')\n",
        "\n",
        "# Mark the minimum and maximum temperature values on the graph as shaded dots - San Diego climate data\n",
        "ax.plot(sanDiego_data_decent['time'].iloc[sanDiego_data_decent['temp'].idxmin()], sanDiego_data_decent['temp'].min(), 'ko', label='Minimum Temperature', color='blue')\n",
        "ax.plot(sanDiego_data_decent['time'].iloc[sanDiego_data_decent['temp'].idxmax()], sanDiego_data_decent['temp'].max(), 'ko', label='Maximum Temperature',color='red')\n",
        "\n",
        "# Plot horizontal lines for the average temperature of the year - San Diego climate data\n",
        "ax.axhline(y=avg_temp_sanDiego, linestyle='--', color='blue', label='Average Temperature')\n",
        "\n",
        "# Set the title and axis labels - San Diego climate data\n",
        "ax.set_title('Hourly Temperature in San Diego, CA')\n",
        "ax.set_xlabel('Time')\n",
        "ax.set_ylabel('Values')\n",
        "\n",
        "# Add a legend and display the plot - San Diego climate data\n",
        "ax.legend()\n",
        "plt.show()\n"
      ],
      "metadata": {
        "colab": {
          "base_uri": "https://localhost:8080/",
          "height": 791
        },
        "id": "jxHs0Paozv90",
        "outputId": "0719b9b6-d37f-43fc-8d03-25e196ada400"
      },
      "execution_count": 40,
      "outputs": [
        {
          "output_type": "display_data",
          "data": {
            "text/plain": [
              "<Figure size 864x432 with 1 Axes>"
            ],
            "image/png": "[encoded data removed]"
          },
          "metadata": {
            "needs_background": "light"
          }
        },
        {
          "output_type": "display_data",
          "data": {
            "text/plain": [
              "<Figure size 864x432 with 1 Axes>"
            ],
            "image/png": "[encoded data removed]"
          },
          "metadata": {
            "needs_background": "light"
          }
        }
      ]
    },
    {
      "cell_type": "code",
      "source": [
        "#Plot the humidity values as a line graph - Melbourne climate data\n",
        "avg_hum = melbourne_data_decent['H'].mean()\n",
        "\n",
        "# Create the plot\n",
        "fig, ax = plt.subplots(figsize=(12, 6))\n",
        "\n",
        "# Plot the humidity values as a line graph - Melbourne climate data\n",
        "ax.plot(melbourne_data_decent['time'], melbourne_data_decent['H'], label='Humidity',color='pink')\n",
        "\n",
        "# Plot horizontal lines for the average humidity of the year - Melbourne climate data\n",
        "ax.axhline(y=avg_hum, linestyle='--', color='blue', label='Average Humidity')\n",
        "\n",
        "# Set the title and axis labels - Melbourne climate data\n",
        "ax.set_title('Hourly Humidity in Melbourne, FL')\n",
        "ax.set_xlabel('Time')\n",
        "ax.set_ylabel('Value')\n",
        "\n",
        "# Add a legend and display the plot - Melbourne climate data\n",
        "ax.legend()\n",
        "plt.show()\n",
        "\n",
        "#San Diego\n",
        "#Plot the humidity values as a line graph - San Diego climate data\n",
        "avg_hum_sanDiego = sanDiego_data_decent['H'].mean()\n",
        "\n",
        "# Create the plot\n",
        "fig, ax = plt.subplots(figsize=(12, 6))\n",
        "\n",
        "# Plot the humidity values as a line graph - San Diego climate data\n",
        "ax.plot(sanDiego_data_decent['time'], sanDiego_data_decent['H'], label='Humidity',color='pink')\n",
        "\n",
        "# Plot horizontal lines for the average humidity of the year - San Diego climate data\n",
        "ax.axhline(y=avg_hum_sanDiego, linestyle='--', color='blue', label='Average Humidity')\n",
        "\n",
        "# Set the title and axis labels - San Diego climate data\n",
        "ax.set_title('Hourly Humidity in San Diego, CA')\n",
        "ax.set_xlabel('Time')\n",
        "ax.set_ylabel('Value')\n",
        "\n",
        "# Add a legend and display the plot - San Diego climate data\n",
        "ax.legend()\n",
        "plt.show()"
      ],
      "metadata": {
        "colab": {
          "base_uri": "https://localhost:8080/",
          "height": 791
        },
        "id": "zCwJfVgq7qJV",
        "outputId": "208a639a-c8e0-49db-9983-274eb4d72ab2"
      },
      "execution_count": 41,
      "outputs": [
        {
          "output_type": "display_data",
          "data": {
            "text/plain": [
              "<Figure size 864x432 with 1 Axes>"
            ],
            "image/png": "[encoded data removed]"
          },
          "metadata": {
            "needs_background": "light"
          }
        },
        {
          "output_type": "display_data",
          "data": {
            "text/plain": [
              "<Figure size 864x432 with 1 Axes>"
            ],
            "image/png": "[encoded data removed]"
          },
          "metadata": {
            "needs_background": "light"
          }
        }
      ]
    },
    {
      "cell_type": "code",
      "source": [
        "# Convert the 'time' column to time format\n",
        "sanDiego_data_decent['time'] = pd.to_datetime(sanDiego_data_decent['time'])\n",
        "melbourne_data_decent['time'] = pd.to_datetime(melbourne_data_decent['time'])\n",
        "\n",
        "# Extract the month from the 'time' column\n",
        "sanDiego_data_decent['month'] = sanDiego_data_decent['time'].dt.month\n",
        "melbourne_data_decent['month'] = melbourne_data_decent['time'].dt.month\n",
        "\n",
        "# Calculate the monthly average temperature for San Diego\n",
        "sd_monthly = sanDiego_data_decent.groupby('month')['temp'].mean()\n",
        "\n",
        "# Calculate the monthly average temperature for Melbourne\n",
        "melb_monthly = melbourne_data_decent.groupby('month')['temp'].mean()\n",
        "\n",
        "# Create a grouped bar plot for both cities\n",
        "fig, ax = plt.subplots(figsize=(18, 5))\n",
        "bar_width = 0.35\n",
        "x_pos = np.arange(len(sd_monthly))\n",
        "\n",
        "ax.bar(x_pos, sd_monthly, bar_width, label='San Diego')\n",
        "ax.bar(x_pos + bar_width, melb_monthly, bar_width, label='Melbourne')\n",
        "\n",
        "# Add labels, title, and legend to the plot\n",
        "ax.set_xlabel('Month')\n",
        "ax.set_ylabel('Temperature (F)')\n",
        "ax.set_title('Monthly Average Temperature Comparison')\n",
        "ax.set_xticks(x_pos + bar_width / 2)\n",
        "ax.set_xticklabels(sd_monthly.index)\n",
        "ax.legend()\n",
        "\n",
        "# Show the plot\n",
        "plt.show()"
      ],
      "metadata": {
        "colab": {
          "base_uri": "https://localhost:8080/",
          "height": 339
        },
        "id": "tZ6mzKefT_NG",
        "outputId": "e06a2cd5-343d-41a7-efb2-6253d53c798b"
      },
      "execution_count": 70,
      "outputs": [
        {
          "output_type": "display_data",
          "data": {
            "text/plain": [
              "<Figure size 1296x360 with 1 Axes>"
            ],
            "image/png": "[encoded data removed]"
          },
          "metadata": {
            "needs_background": "light"
          }
        }
      ]
    },
    {
      "cell_type": "code",
      "source": [
        "sanDiego_data_decent['time'] = pd.to_datetime(sanDiego_data_decent['time'])\n",
        "melbourne_data_decent['time'] = pd.to_datetime(melbourne_data_decent['time'])\n",
        "\n",
        "# Extract the month from the 'time' column\n",
        "sanDiego_data_decent['month'] = sanDiego_data_decent['time'].dt.month\n",
        "melbourne_data_decent['month'] = melbourne_data_decent['time'].dt.month\n",
        "\n",
        "# Calculate the monthly average temperature for San Diego\n",
        "sd_monthly = sanDiego_data_decent.groupby('month')['H'].mean()\n",
        "\n",
        "# Calculate the monthly average temperature for Melbourne\n",
        "melb_monthly = melbourne_data_decent.groupby('month')['H'].mean()\n",
        "\n",
        "# Create a grouped bar plot for both cities\n",
        "fig, ax = plt.subplots(figsize=(18, 5))\n",
        "bar_width = 0.35\n",
        "x_pos = np.arange(len(sd_monthly))\n",
        "\n",
        "ax.bar(x_pos, sd_monthly, bar_width, label='San Diego')\n",
        "ax.bar(x_pos + bar_width, melb_monthly, bar_width, label='Melbourne')\n",
        "\n",
        "# Add labels, title, and legend to the plot\n",
        "ax.set_xlabel('Month')\n",
        "ax.set_ylabel('Humidity')\n",
        "ax.set_title('Monthly Humidity Comparison')\n",
        "ax.set_xticks(x_pos + bar_width / 2)\n",
        "ax.set_xticklabels(sd_monthly.index)\n",
        "ax.legend()\n",
        "\n",
        "# Show the plot\n",
        "plt.show()"
      ],
      "metadata": {
        "colab": {
          "base_uri": "https://localhost:8080/",
          "height": 339
        },
        "id": "n698G4BbU0Si",
        "outputId": "aa18c876-ac04-44e8-b7e6-bae591bd8662"
      },
      "execution_count": 77,
      "outputs": [
        {
          "output_type": "display_data",
          "data": {
            "text/plain": [
              "<Figure size 1296x360 with 1 Axes>"
            ],
            "image/png": "[encoded data removed]"
          },
          "metadata": {
            "needs_background": "light"
          }
        }
      ]
    },
    {
      "cell_type": "code",
      "source": [
        "sanDiego_data_decent['time'] = pd.to_datetime(sanDiego_data_decent['time'])\n",
        "melbourne_data_decent['time'] = pd.to_datetime(melbourne_data_decent['time'])\n",
        "\n",
        "# Extract the month from the 'time' column\n",
        "sanDiego_data_decent['month'] = sanDiego_data_decent['time'].dt.month\n",
        "melbourne_data_decent['month'] = melbourne_data_decent['time'].dt.month\n",
        "\n",
        "# Calculate the monthly average temperature for San Diego\n",
        "sd_monthly = sanDiego_data_decent.groupby('month')['precip_1hr'].sum()\n",
        "\n",
        "# Calculate the monthly average temperature for Melbourne\n",
        "melb_monthly = melbourne_data_decent.groupby('month')['precip_1hr'].sum()\n",
        "\n",
        "# Create a grouped bar plot for both cities\n",
        "fig, ax = plt.subplots(figsize=(18, 5))\n",
        "bar_width = 0.35\n",
        "x_pos = np.arange(len(sd_monthly))\n",
        "\n",
        "ax.bar(x_pos, sd_monthly, bar_width, label='San Diego')\n",
        "ax.bar(x_pos + bar_width, melb_monthly, bar_width, label='Melbourne')\n",
        "\n",
        "# Add labels, title, and legend to the plot\n",
        "ax.set_xlabel('Month')\n",
        "ax.set_ylabel('Hours Rained')\n",
        "ax.set_title('Monthly Rainfall Comparison')\n",
        "ax.set_xticks(x_pos + bar_width / 2)\n",
        "ax.set_xticklabels(sd_monthly.index)\n",
        "ax.legend()\n",
        "\n",
        "# Show the plot\n",
        "plt.show()"
      ],
      "metadata": {
        "colab": {
          "base_uri": "https://localhost:8080/",
          "height": 341
        },
        "id": "Y4feE6wiVMU-",
        "outputId": "792d72a2-0c54-4048-edb1-4363e2441913"
      },
      "execution_count": 76,
      "outputs": [
        {
          "output_type": "display_data",
          "data": {
            "text/plain": [
              "<Figure size 1296x360 with 1 Axes>"
            ],
            "image/png": "[encoded data removed]"
          },
          "metadata": {
            "needs_background": "light"
          }
        }
      ]
    }
  ]
}